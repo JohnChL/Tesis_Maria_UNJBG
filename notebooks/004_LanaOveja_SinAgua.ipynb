{
 "cells": [
  {
   "cell_type": "markdown",
   "id": "99b2430f-1fba-4204-a1b8-d5d5b4212983",
   "metadata": {},
   "source": [
    "# Cocinas_Lana de oveja_Sin agua"
   ]
  },
  {
   "cell_type": "code",
   "execution_count": 1,
   "id": "65ecd2bb-a02b-402a-8375-e57a027b4c51",
   "metadata": {},
   "outputs": [],
   "source": [
    "import pandas as pd"
   ]
  },
  {
   "cell_type": "markdown",
   "id": "f42d0cb7-8c4c-4f48-a723-bff770a3160c",
   "metadata": {},
   "source": [
    "## cocina 1"
   ]
  },
  {
   "cell_type": "code",
   "execution_count": 2,
   "id": "b1ce3723-111a-4ede-b967-d14da9d48f9e",
   "metadata": {},
   "outputs": [],
   "source": [
    "f = '../data/001_raw/Cocina_1_sin_agua_lana_de_oveja_12_01_24.csv'"
   ]
  },
  {
   "cell_type": "code",
   "execution_count": 3,
   "id": "fee49068-f3c0-4040-bb00-d7eba443ae16",
   "metadata": {},
   "outputs": [
    {
     "name": "stderr",
     "output_type": "stream",
     "text": [
      "C:\\Users\\USER.V\\AppData\\Local\\Temp\\ipykernel_10260\\706112990.py:1: UserWarning: Could not infer format, so each element will be parsed individually, falling back to `dateutil`. To ensure parsing is consistent and as-expected, please specify a format.\n",
      "  df1 = pd.read_csv(f, index_col = 0, parse_dates = True)\n"
     ]
    }
   ],
   "source": [
    "df1 = pd.read_csv(f, index_col = 0, parse_dates = True)\n",
    "# renombrar el index\n",
    "df1 = df1.rename_axis(index='Fecha')\n",
    "\n",
    "df1 = df1.rename({'Tipo K, °C (SEN S/N: 21654196, LBL: T 1p)':'T_p1',\n",
    "                'Tipo T, °C (SEN S/N: 21654196, LBL: T 1C)':'T_m1',\n",
    "                'Tipo K, °C (SEN S/N: 21654196, LBL: T 1 iv)':'T_vi1',\n",
    "                'Tipo K, °C (SEN S/N: 21654196, LBL: T  1 ev)':'T_ve1'\n",
    "                  }, axis = 1)"
   ]
  },
  {
   "cell_type": "code",
   "execution_count": 4,
   "id": "50d4ab5e-910a-4c06-a121-51ca0f217dae",
   "metadata": {},
   "outputs": [
    {
     "data": {
      "text/html": [
       "<div>\n",
       "<style scoped>\n",
       "    .dataframe tbody tr th:only-of-type {\n",
       "        vertical-align: middle;\n",
       "    }\n",
       "\n",
       "    .dataframe tbody tr th {\n",
       "        vertical-align: top;\n",
       "    }\n",
       "\n",
       "    .dataframe thead th {\n",
       "        text-align: right;\n",
       "    }\n",
       "</style>\n",
       "<table border=\"1\" class=\"dataframe\">\n",
       "  <thead>\n",
       "    <tr style=\"text-align: right;\">\n",
       "      <th></th>\n",
       "      <th>T_p1</th>\n",
       "      <th>T_m1</th>\n",
       "      <th>T_vi1</th>\n",
       "      <th>T_ve1</th>\n",
       "    </tr>\n",
       "    <tr>\n",
       "      <th>Fecha</th>\n",
       "      <th></th>\n",
       "      <th></th>\n",
       "      <th></th>\n",
       "      <th></th>\n",
       "    </tr>\n",
       "  </thead>\n",
       "  <tbody>\n",
       "    <tr>\n",
       "      <th>2024-01-05 15:00:00</th>\n",
       "      <td>104.25</td>\n",
       "      <td>90.64</td>\n",
       "      <td>58.96</td>\n",
       "      <td>55.82</td>\n",
       "    </tr>\n",
       "    <tr>\n",
       "      <th>2024-01-05 15:01:00</th>\n",
       "      <td>103.74</td>\n",
       "      <td>89.97</td>\n",
       "      <td>57.51</td>\n",
       "      <td>55.55</td>\n",
       "    </tr>\n",
       "    <tr>\n",
       "      <th>2024-01-05 15:02:00</th>\n",
       "      <td>103.24</td>\n",
       "      <td>89.42</td>\n",
       "      <td>58.00</td>\n",
       "      <td>55.12</td>\n",
       "    </tr>\n",
       "    <tr>\n",
       "      <th>2024-01-05 15:03:00</th>\n",
       "      <td>102.74</td>\n",
       "      <td>89.65</td>\n",
       "      <td>57.65</td>\n",
       "      <td>55.79</td>\n",
       "    </tr>\n",
       "    <tr>\n",
       "      <th>2024-01-05 15:04:00</th>\n",
       "      <td>102.29</td>\n",
       "      <td>89.13</td>\n",
       "      <td>59.16</td>\n",
       "      <td>56.11</td>\n",
       "    </tr>\n",
       "    <tr>\n",
       "      <th>...</th>\n",
       "      <td>...</td>\n",
       "      <td>...</td>\n",
       "      <td>...</td>\n",
       "      <td>...</td>\n",
       "    </tr>\n",
       "    <tr>\n",
       "      <th>2024-01-12 09:43:00</th>\n",
       "      <td>59.53</td>\n",
       "      <td>46.30</td>\n",
       "      <td>84.17</td>\n",
       "      <td>54.01</td>\n",
       "    </tr>\n",
       "    <tr>\n",
       "      <th>2024-01-12 09:44:00</th>\n",
       "      <td>60.11</td>\n",
       "      <td>47.18</td>\n",
       "      <td>83.84</td>\n",
       "      <td>54.25</td>\n",
       "    </tr>\n",
       "    <tr>\n",
       "      <th>2024-01-12 09:45:00</th>\n",
       "      <td>60.75</td>\n",
       "      <td>47.87</td>\n",
       "      <td>84.12</td>\n",
       "      <td>55.28</td>\n",
       "    </tr>\n",
       "    <tr>\n",
       "      <th>2024-01-12 09:46:00</th>\n",
       "      <td>61.38</td>\n",
       "      <td>48.69</td>\n",
       "      <td>84.66</td>\n",
       "      <td>55.85</td>\n",
       "    </tr>\n",
       "    <tr>\n",
       "      <th>2024-01-12 09:47:00</th>\n",
       "      <td>62.04</td>\n",
       "      <td>49.51</td>\n",
       "      <td>85.45</td>\n",
       "      <td>56.06</td>\n",
       "    </tr>\n",
       "  </tbody>\n",
       "</table>\n",
       "<p>9768 rows × 4 columns</p>\n",
       "</div>"
      ],
      "text/plain": [
       "                       T_p1   T_m1  T_vi1  T_ve1\n",
       "Fecha                                           \n",
       "2024-01-05 15:00:00  104.25  90.64  58.96  55.82\n",
       "2024-01-05 15:01:00  103.74  89.97  57.51  55.55\n",
       "2024-01-05 15:02:00  103.24  89.42  58.00  55.12\n",
       "2024-01-05 15:03:00  102.74  89.65  57.65  55.79\n",
       "2024-01-05 15:04:00  102.29  89.13  59.16  56.11\n",
       "...                     ...    ...    ...    ...\n",
       "2024-01-12 09:43:00   59.53  46.30  84.17  54.01\n",
       "2024-01-12 09:44:00   60.11  47.18  83.84  54.25\n",
       "2024-01-12 09:45:00   60.75  47.87  84.12  55.28\n",
       "2024-01-12 09:46:00   61.38  48.69  84.66  55.85\n",
       "2024-01-12 09:47:00   62.04  49.51  85.45  56.06\n",
       "\n",
       "[9768 rows x 4 columns]"
      ]
     },
     "execution_count": 4,
     "metadata": {},
     "output_type": "execute_result"
    }
   ],
   "source": [
    "df1"
   ]
  },
  {
   "cell_type": "code",
   "execution_count": 5,
   "id": "c2c32b71-9343-4f6d-8f37-ae79a8801952",
   "metadata": {},
   "outputs": [
    {
     "data": {
      "text/plain": [
       "array([<Axes: xlabel='Fecha'>, <Axes: xlabel='Fecha'>,\n",
       "       <Axes: xlabel='Fecha'>, <Axes: xlabel='Fecha'>], dtype=object)"
      ]
     },
     "execution_count": 5,
     "metadata": {},
     "output_type": "execute_result"
    },
    {
     "data": {
      "image/png": "[encoded data removed]",
      "text/plain": [
       "<Figure size 640x480 with 4 Axes>"
      ]
     },
     "metadata": {},
     "output_type": "display_data"
    }
   ],
   "source": [
    "df1.plot(subplots = True)"
   ]
  },
  {
   "cell_type": "markdown",
   "id": "5142de7d-e1a0-4004-a3d3-bc7608253c2a",
   "metadata": {},
   "source": [
    "## cocina 2"
   ]
  },
  {
   "cell_type": "code",
   "execution_count": null,
   "id": "7379d489-591f-4ca7-9888-a858c394e699",
   "metadata": {},
   "outputs": [],
   "source": []
  },
  {
   "cell_type": "code",
   "execution_count": 6,
   "id": "4da0d36c-7088-4f81-8f99-ec6589fcd13d",
   "metadata": {},
   "outputs": [
    {
     "name": "stderr",
     "output_type": "stream",
     "text": [
      "C:\\Users\\USER.V\\AppData\\Local\\Temp\\ipykernel_10260\\1100274996.py:3: UserWarning: Could not infer format, so each element will be parsed individually, falling back to `dateutil`. To ensure parsing is consistent and as-expected, please specify a format.\n",
      "  df2 = pd.read_csv(g, index_col = 0, parse_dates = True)\n"
     ]
    }
   ],
   "source": [
    "g = '../data/001_raw/Cocina2__sin_agua__lana_oveja_12_01_24..csv'\n",
    "\n",
    "df2 = pd.read_csv(g, index_col = 0, parse_dates = True)\n",
    "# renombrar el index\n",
    "df2 = df2.rename_axis(index='Fecha')\n",
    "\n",
    "df2 = df2.rename({'Tipo K, °C (SEN S/N: 20939342, LBL: T 2p)':'T_p2',\n",
    "                'Tipo T, °C (SEN S/N: 20939342, LBL: T 2C)':'T_m2',\n",
    "                'Tipo K, °C (SEN S/N: 20939342, LBL: T 2iv)':'T_vi2',\n",
    "                'Tipo K, °C (SEN S/N: 20939342, LBL: T 2ev)':'T_ve2'\n",
    "                  }, axis = 1)"
   ]
  },
  {
   "cell_type": "code",
   "execution_count": 7,
   "id": "ff73eca0-19f4-44ee-99bb-264d73bba676",
   "metadata": {},
   "outputs": [
    {
     "data": {
      "text/html": [
       "<div>\n",
       "<style scoped>\n",
       "    .dataframe tbody tr th:only-of-type {\n",
       "        vertical-align: middle;\n",
       "    }\n",
       "\n",
       "    .dataframe tbody tr th {\n",
       "        vertical-align: top;\n",
       "    }\n",
       "\n",
       "    .dataframe thead th {\n",
       "        text-align: right;\n",
       "    }\n",
       "</style>\n",
       "<table border=\"1\" class=\"dataframe\">\n",
       "  <thead>\n",
       "    <tr style=\"text-align: right;\">\n",
       "      <th></th>\n",
       "      <th>T_p2</th>\n",
       "      <th>T_m2</th>\n",
       "      <th>T_vi2</th>\n",
       "      <th>T_ve2</th>\n",
       "    </tr>\n",
       "    <tr>\n",
       "      <th>Fecha</th>\n",
       "      <th></th>\n",
       "      <th></th>\n",
       "      <th></th>\n",
       "      <th></th>\n",
       "    </tr>\n",
       "  </thead>\n",
       "  <tbody>\n",
       "    <tr>\n",
       "      <th>2024-01-05 15:00:00</th>\n",
       "      <td>-888.88</td>\n",
       "      <td>78.06</td>\n",
       "      <td>63.84</td>\n",
       "      <td>48.38</td>\n",
       "    </tr>\n",
       "    <tr>\n",
       "      <th>2024-01-05 15:01:00</th>\n",
       "      <td>-888.88</td>\n",
       "      <td>76.85</td>\n",
       "      <td>63.49</td>\n",
       "      <td>48.11</td>\n",
       "    </tr>\n",
       "    <tr>\n",
       "      <th>2024-01-05 15:02:00</th>\n",
       "      <td>-888.88</td>\n",
       "      <td>75.19</td>\n",
       "      <td>63.18</td>\n",
       "      <td>47.74</td>\n",
       "    </tr>\n",
       "    <tr>\n",
       "      <th>2024-01-05 15:03:00</th>\n",
       "      <td>-888.88</td>\n",
       "      <td>76.95</td>\n",
       "      <td>62.95</td>\n",
       "      <td>48.33</td>\n",
       "    </tr>\n",
       "    <tr>\n",
       "      <th>2024-01-05 15:04:00</th>\n",
       "      <td>-888.88</td>\n",
       "      <td>76.73</td>\n",
       "      <td>62.73</td>\n",
       "      <td>48.36</td>\n",
       "    </tr>\n",
       "    <tr>\n",
       "      <th>...</th>\n",
       "      <td>...</td>\n",
       "      <td>...</td>\n",
       "      <td>...</td>\n",
       "      <td>...</td>\n",
       "    </tr>\n",
       "    <tr>\n",
       "      <th>2024-01-12 09:40:00</th>\n",
       "      <td>62.39</td>\n",
       "      <td>38.29</td>\n",
       "      <td>64.80</td>\n",
       "      <td>55.75</td>\n",
       "    </tr>\n",
       "    <tr>\n",
       "      <th>2024-01-12 09:41:00</th>\n",
       "      <td>62.69</td>\n",
       "      <td>39.13</td>\n",
       "      <td>65.39</td>\n",
       "      <td>55.28</td>\n",
       "    </tr>\n",
       "    <tr>\n",
       "      <th>2024-01-12 09:42:00</th>\n",
       "      <td>63.14</td>\n",
       "      <td>39.96</td>\n",
       "      <td>65.88</td>\n",
       "      <td>55.55</td>\n",
       "    </tr>\n",
       "    <tr>\n",
       "      <th>2024-01-12 09:43:00</th>\n",
       "      <td>63.48</td>\n",
       "      <td>40.73</td>\n",
       "      <td>66.35</td>\n",
       "      <td>55.73</td>\n",
       "    </tr>\n",
       "    <tr>\n",
       "      <th>2024-01-12 09:44:00</th>\n",
       "      <td>63.91</td>\n",
       "      <td>41.44</td>\n",
       "      <td>66.83</td>\n",
       "      <td>55.82</td>\n",
       "    </tr>\n",
       "  </tbody>\n",
       "</table>\n",
       "<p>9765 rows × 4 columns</p>\n",
       "</div>"
      ],
      "text/plain": [
       "                       T_p2   T_m2  T_vi2  T_ve2\n",
       "Fecha                                           \n",
       "2024-01-05 15:00:00 -888.88  78.06  63.84  48.38\n",
       "2024-01-05 15:01:00 -888.88  76.85  63.49  48.11\n",
       "2024-01-05 15:02:00 -888.88  75.19  63.18  47.74\n",
       "2024-01-05 15:03:00 -888.88  76.95  62.95  48.33\n",
       "2024-01-05 15:04:00 -888.88  76.73  62.73  48.36\n",
       "...                     ...    ...    ...    ...\n",
       "2024-01-12 09:40:00   62.39  38.29  64.80  55.75\n",
       "2024-01-12 09:41:00   62.69  39.13  65.39  55.28\n",
       "2024-01-12 09:42:00   63.14  39.96  65.88  55.55\n",
       "2024-01-12 09:43:00   63.48  40.73  66.35  55.73\n",
       "2024-01-12 09:44:00   63.91  41.44  66.83  55.82\n",
       "\n",
       "[9765 rows x 4 columns]"
      ]
     },
     "execution_count": 7,
     "metadata": {},
     "output_type": "execute_result"
    }
   ],
   "source": [
    "df2"
   ]
  },
  {
   "cell_type": "code",
   "execution_count": null,
   "id": "76c86fe5-765d-4b18-b2ff-59f4c97745b6",
   "metadata": {},
   "outputs": [],
   "source": []
  },
  {
   "cell_type": "markdown",
   "id": "91ac9ae0-5353-4cf2-9e87-792120efa2ff",
   "metadata": {},
   "source": [
    "## cocina 3"
   ]
  },
  {
   "cell_type": "code",
   "execution_count": 8,
   "id": "b0878fd4-9827-40a1-98b5-77b9b929728b",
   "metadata": {},
   "outputs": [
    {
     "name": "stderr",
     "output_type": "stream",
     "text": [
      "C:\\Users\\USER.V\\AppData\\Local\\Temp\\ipykernel_10260\\2289641884.py:3: UserWarning: Could not infer format, so each element will be parsed individually, falling back to `dateutil`. To ensure parsing is consistent and as-expected, please specify a format.\n",
      "  df3 = pd.read_csv(h, index_col = 0, parse_dates = True)\n"
     ]
    }
   ],
   "source": [
    "h = '../data/001_raw/Cocina_3__sin_agua_lana_oveja__12_01_24.csv'\n",
    "\n",
    "df3 = pd.read_csv(h, index_col = 0, parse_dates = True)\n",
    "# renombrar el index\n",
    "df3 = df3.rename_axis(index='Fecha')\n",
    "\n",
    "df3 = df3.rename({'Tipo K, °C (SEN S/N: 21654195, LBL: T 3p)':'T_p3',\n",
    "                'Tipo T, °C (SEN S/N: 21654195, LBL: T 3C)':'T_m3',\n",
    "                'Tipo T, °C (SEN S/N: 21654195, LBL: T 3iv)':'T_vi3',\n",
    "                'Tipo T, °C (SEN S/N: 21654195, LBL: T 3ev)':'T_ve3'\n",
    "                  }, axis = 1)"
   ]
  },
  {
   "cell_type": "code",
   "execution_count": 9,
   "id": "f995f4af-75a2-4c23-a014-803f9692a7dc",
   "metadata": {},
   "outputs": [
    {
     "data": {
      "text/html": [
       "<div>\n",
       "<style scoped>\n",
       "    .dataframe tbody tr th:only-of-type {\n",
       "        vertical-align: middle;\n",
       "    }\n",
       "\n",
       "    .dataframe tbody tr th {\n",
       "        vertical-align: top;\n",
       "    }\n",
       "\n",
       "    .dataframe thead th {\n",
       "        text-align: right;\n",
       "    }\n",
       "</style>\n",
       "<table border=\"1\" class=\"dataframe\">\n",
       "  <thead>\n",
       "    <tr style=\"text-align: right;\">\n",
       "      <th></th>\n",
       "      <th>T_p3</th>\n",
       "      <th>T_m3</th>\n",
       "      <th>T_vi3</th>\n",
       "      <th>T_ve3</th>\n",
       "    </tr>\n",
       "    <tr>\n",
       "      <th>Fecha</th>\n",
       "      <th></th>\n",
       "      <th></th>\n",
       "      <th></th>\n",
       "      <th></th>\n",
       "    </tr>\n",
       "  </thead>\n",
       "  <tbody>\n",
       "    <tr>\n",
       "      <th>2024-01-05 15:00:00</th>\n",
       "      <td>88.96</td>\n",
       "      <td>75.19</td>\n",
       "      <td>59.88</td>\n",
       "      <td>43.49</td>\n",
       "    </tr>\n",
       "    <tr>\n",
       "      <th>2024-01-05 15:01:00</th>\n",
       "      <td>88.65</td>\n",
       "      <td>75.35</td>\n",
       "      <td>59.73</td>\n",
       "      <td>43.42</td>\n",
       "    </tr>\n",
       "    <tr>\n",
       "      <th>2024-01-05 15:02:00</th>\n",
       "      <td>88.18</td>\n",
       "      <td>74.16</td>\n",
       "      <td>59.48</td>\n",
       "      <td>42.87</td>\n",
       "    </tr>\n",
       "    <tr>\n",
       "      <th>2024-01-05 15:03:00</th>\n",
       "      <td>87.99</td>\n",
       "      <td>75.34</td>\n",
       "      <td>59.32</td>\n",
       "      <td>43.88</td>\n",
       "    </tr>\n",
       "    <tr>\n",
       "      <th>2024-01-05 15:04:00</th>\n",
       "      <td>87.77</td>\n",
       "      <td>75.18</td>\n",
       "      <td>59.18</td>\n",
       "      <td>44.03</td>\n",
       "    </tr>\n",
       "    <tr>\n",
       "      <th>...</th>\n",
       "      <td>...</td>\n",
       "      <td>...</td>\n",
       "      <td>...</td>\n",
       "      <td>...</td>\n",
       "    </tr>\n",
       "    <tr>\n",
       "      <th>2024-01-12 09:35:00</th>\n",
       "      <td>62.63</td>\n",
       "      <td>28.18</td>\n",
       "      <td>59.58</td>\n",
       "      <td>48.54</td>\n",
       "    </tr>\n",
       "    <tr>\n",
       "      <th>2024-01-12 09:36:00</th>\n",
       "      <td>60.90</td>\n",
       "      <td>28.86</td>\n",
       "      <td>59.49</td>\n",
       "      <td>49.10</td>\n",
       "    </tr>\n",
       "    <tr>\n",
       "      <th>2024-01-12 09:37:00</th>\n",
       "      <td>59.79</td>\n",
       "      <td>29.55</td>\n",
       "      <td>59.51</td>\n",
       "      <td>49.55</td>\n",
       "    </tr>\n",
       "    <tr>\n",
       "      <th>2024-01-12 09:38:00</th>\n",
       "      <td>58.99</td>\n",
       "      <td>30.21</td>\n",
       "      <td>59.59</td>\n",
       "      <td>49.75</td>\n",
       "    </tr>\n",
       "    <tr>\n",
       "      <th>2024-01-12 09:39:00</th>\n",
       "      <td>58.56</td>\n",
       "      <td>31.08</td>\n",
       "      <td>59.84</td>\n",
       "      <td>50.26</td>\n",
       "    </tr>\n",
       "  </tbody>\n",
       "</table>\n",
       "<p>9760 rows × 4 columns</p>\n",
       "</div>"
      ],
      "text/plain": [
       "                      T_p3   T_m3  T_vi3  T_ve3\n",
       "Fecha                                          \n",
       "2024-01-05 15:00:00  88.96  75.19  59.88  43.49\n",
       "2024-01-05 15:01:00  88.65  75.35  59.73  43.42\n",
       "2024-01-05 15:02:00  88.18  74.16  59.48  42.87\n",
       "2024-01-05 15:03:00  87.99  75.34  59.32  43.88\n",
       "2024-01-05 15:04:00  87.77  75.18  59.18  44.03\n",
       "...                    ...    ...    ...    ...\n",
       "2024-01-12 09:35:00  62.63  28.18  59.58  48.54\n",
       "2024-01-12 09:36:00  60.90  28.86  59.49  49.10\n",
       "2024-01-12 09:37:00  59.79  29.55  59.51  49.55\n",
       "2024-01-12 09:38:00  58.99  30.21  59.59  49.75\n",
       "2024-01-12 09:39:00  58.56  31.08  59.84  50.26\n",
       "\n",
       "[9760 rows x 4 columns]"
      ]
     },
     "execution_count": 9,
     "metadata": {},
     "output_type": "execute_result"
    }
   ],
   "source": [
    "df3"
   ]
  },
  {
   "cell_type": "code",
   "execution_count": 10,
   "id": "d9c2cf76-d0a1-4841-911c-5b2456bb1f1b",
   "metadata": {},
   "outputs": [
    {
     "data": {
      "text/html": [
       "<div>\n",
       "<style scoped>\n",
       "    .dataframe tbody tr th:only-of-type {\n",
       "        vertical-align: middle;\n",
       "    }\n",
       "\n",
       "    .dataframe tbody tr th {\n",
       "        vertical-align: top;\n",
       "    }\n",
       "\n",
       "    .dataframe thead th {\n",
       "        text-align: right;\n",
       "    }\n",
       "</style>\n",
       "<table border=\"1\" class=\"dataframe\">\n",
       "  <thead>\n",
       "    <tr style=\"text-align: right;\">\n",
       "      <th></th>\n",
       "      <th>T_p1</th>\n",
       "      <th>T_m1</th>\n",
       "      <th>T_vi1</th>\n",
       "      <th>T_ve1</th>\n",
       "    </tr>\n",
       "  </thead>\n",
       "  <tbody>\n",
       "    <tr>\n",
       "      <th>count</th>\n",
       "      <td>9768.000000</td>\n",
       "      <td>9768.000000</td>\n",
       "      <td>9768.000000</td>\n",
       "      <td>9768.000000</td>\n",
       "    </tr>\n",
       "    <tr>\n",
       "      <th>mean</th>\n",
       "      <td>53.429006</td>\n",
       "      <td>48.400676</td>\n",
       "      <td>37.538271</td>\n",
       "      <td>34.066190</td>\n",
       "    </tr>\n",
       "    <tr>\n",
       "      <th>std</th>\n",
       "      <td>45.521541</td>\n",
       "      <td>39.194446</td>\n",
       "      <td>24.827990</td>\n",
       "      <td>21.594496</td>\n",
       "    </tr>\n",
       "    <tr>\n",
       "      <th>min</th>\n",
       "      <td>16.050000</td>\n",
       "      <td>15.880000</td>\n",
       "      <td>16.110000</td>\n",
       "      <td>14.980000</td>\n",
       "    </tr>\n",
       "    <tr>\n",
       "      <th>25%</th>\n",
       "      <td>20.280000</td>\n",
       "      <td>20.070000</td>\n",
       "      <td>19.960000</td>\n",
       "      <td>18.950000</td>\n",
       "    </tr>\n",
       "    <tr>\n",
       "      <th>50%</th>\n",
       "      <td>26.695000</td>\n",
       "      <td>25.535000</td>\n",
       "      <td>23.360000</td>\n",
       "      <td>21.590000</td>\n",
       "    </tr>\n",
       "    <tr>\n",
       "      <th>75%</th>\n",
       "      <td>80.432500</td>\n",
       "      <td>71.230000</td>\n",
       "      <td>52.342500</td>\n",
       "      <td>47.817500</td>\n",
       "    </tr>\n",
       "    <tr>\n",
       "      <th>max</th>\n",
       "      <td>154.810000</td>\n",
       "      <td>142.640000</td>\n",
       "      <td>109.540000</td>\n",
       "      <td>90.480000</td>\n",
       "    </tr>\n",
       "  </tbody>\n",
       "</table>\n",
       "</div>"
      ],
      "text/plain": [
       "              T_p1         T_m1        T_vi1        T_ve1\n",
       "count  9768.000000  9768.000000  9768.000000  9768.000000\n",
       "mean     53.429006    48.400676    37.538271    34.066190\n",
       "std      45.521541    39.194446    24.827990    21.594496\n",
       "min      16.050000    15.880000    16.110000    14.980000\n",
       "25%      20.280000    20.070000    19.960000    18.950000\n",
       "50%      26.695000    25.535000    23.360000    21.590000\n",
       "75%      80.432500    71.230000    52.342500    47.817500\n",
       "max     154.810000   142.640000   109.540000    90.480000"
      ]
     },
     "execution_count": 10,
     "metadata": {},
     "output_type": "execute_result"
    }
   ],
   "source": [
    "df1.describe()"
   ]
  },
  {
   "cell_type": "code",
   "execution_count": 11,
   "id": "755ceced-3475-4bbd-a107-d57b47149eb5",
   "metadata": {},
   "outputs": [
    {
     "data": {
      "text/html": [
       "<div>\n",
       "<style scoped>\n",
       "    .dataframe tbody tr th:only-of-type {\n",
       "        vertical-align: middle;\n",
       "    }\n",
       "\n",
       "    .dataframe tbody tr th {\n",
       "        vertical-align: top;\n",
       "    }\n",
       "\n",
       "    .dataframe thead th {\n",
       "        text-align: right;\n",
       "    }\n",
       "</style>\n",
       "<table border=\"1\" class=\"dataframe\">\n",
       "  <thead>\n",
       "    <tr style=\"text-align: right;\">\n",
       "      <th></th>\n",
       "      <th>T_p2</th>\n",
       "      <th>T_m2</th>\n",
       "      <th>T_vi2</th>\n",
       "      <th>T_ve2</th>\n",
       "    </tr>\n",
       "  </thead>\n",
       "  <tbody>\n",
       "    <tr>\n",
       "      <th>count</th>\n",
       "      <td>9765.000000</td>\n",
       "      <td>9765.000000</td>\n",
       "      <td>9765.000000</td>\n",
       "      <td>9765.000000</td>\n",
       "    </tr>\n",
       "    <tr>\n",
       "      <th>mean</th>\n",
       "      <td>109.745739</td>\n",
       "      <td>44.799628</td>\n",
       "      <td>38.988886</td>\n",
       "      <td>32.668601</td>\n",
       "    </tr>\n",
       "    <tr>\n",
       "      <th>std</th>\n",
       "      <td>762.667956</td>\n",
       "      <td>33.289145</td>\n",
       "      <td>27.366973</td>\n",
       "      <td>19.434827</td>\n",
       "    </tr>\n",
       "    <tr>\n",
       "      <th>min</th>\n",
       "      <td>-888.880000</td>\n",
       "      <td>15.750000</td>\n",
       "      <td>14.930000</td>\n",
       "      <td>2.020000</td>\n",
       "    </tr>\n",
       "    <tr>\n",
       "      <th>25%</th>\n",
       "      <td>17.850000</td>\n",
       "      <td>20.120000</td>\n",
       "      <td>19.260000</td>\n",
       "      <td>18.940000</td>\n",
       "    </tr>\n",
       "    <tr>\n",
       "      <th>50%</th>\n",
       "      <td>27.330000</td>\n",
       "      <td>25.580000</td>\n",
       "      <td>23.070000</td>\n",
       "      <td>21.540000</td>\n",
       "    </tr>\n",
       "    <tr>\n",
       "      <th>75%</th>\n",
       "      <td>124.830000</td>\n",
       "      <td>65.390000</td>\n",
       "      <td>57.740000</td>\n",
       "      <td>46.330000</td>\n",
       "    </tr>\n",
       "    <tr>\n",
       "      <th>max</th>\n",
       "      <td>2020.160000</td>\n",
       "      <td>120.560000</td>\n",
       "      <td>100.810000</td>\n",
       "      <td>78.450000</td>\n",
       "    </tr>\n",
       "  </tbody>\n",
       "</table>\n",
       "</div>"
      ],
      "text/plain": [
       "              T_p2         T_m2        T_vi2        T_ve2\n",
       "count  9765.000000  9765.000000  9765.000000  9765.000000\n",
       "mean    109.745739    44.799628    38.988886    32.668601\n",
       "std     762.667956    33.289145    27.366973    19.434827\n",
       "min    -888.880000    15.750000    14.930000     2.020000\n",
       "25%      17.850000    20.120000    19.260000    18.940000\n",
       "50%      27.330000    25.580000    23.070000    21.540000\n",
       "75%     124.830000    65.390000    57.740000    46.330000\n",
       "max    2020.160000   120.560000   100.810000    78.450000"
      ]
     },
     "execution_count": 11,
     "metadata": {},
     "output_type": "execute_result"
    }
   ],
   "source": [
    "df2.describe()"
   ]
  },
  {
   "cell_type": "code",
   "execution_count": 12,
   "id": "7fe798f3-8e5d-47a6-b971-f30dfdebf014",
   "metadata": {},
   "outputs": [
    {
     "data": {
      "text/html": [
       "<div>\n",
       "<style scoped>\n",
       "    .dataframe tbody tr th:only-of-type {\n",
       "        vertical-align: middle;\n",
       "    }\n",
       "\n",
       "    .dataframe tbody tr th {\n",
       "        vertical-align: top;\n",
       "    }\n",
       "\n",
       "    .dataframe thead th {\n",
       "        text-align: right;\n",
       "    }\n",
       "</style>\n",
       "<table border=\"1\" class=\"dataframe\">\n",
       "  <thead>\n",
       "    <tr style=\"text-align: right;\">\n",
       "      <th></th>\n",
       "      <th>T_p3</th>\n",
       "      <th>T_m3</th>\n",
       "      <th>T_vi3</th>\n",
       "      <th>T_ve3</th>\n",
       "    </tr>\n",
       "  </thead>\n",
       "  <tbody>\n",
       "    <tr>\n",
       "      <th>count</th>\n",
       "      <td>9760.000000</td>\n",
       "      <td>9760.000000</td>\n",
       "      <td>9760.000000</td>\n",
       "      <td>9760.000000</td>\n",
       "    </tr>\n",
       "    <tr>\n",
       "      <th>mean</th>\n",
       "      <td>49.530310</td>\n",
       "      <td>44.288693</td>\n",
       "      <td>37.653720</td>\n",
       "      <td>31.023411</td>\n",
       "    </tr>\n",
       "    <tr>\n",
       "      <th>std</th>\n",
       "      <td>37.506635</td>\n",
       "      <td>31.112759</td>\n",
       "      <td>24.231956</td>\n",
       "      <td>16.383009</td>\n",
       "    </tr>\n",
       "    <tr>\n",
       "      <th>min</th>\n",
       "      <td>16.150000</td>\n",
       "      <td>15.940000</td>\n",
       "      <td>15.240000</td>\n",
       "      <td>14.970000</td>\n",
       "    </tr>\n",
       "    <tr>\n",
       "      <th>25%</th>\n",
       "      <td>20.760000</td>\n",
       "      <td>20.410000</td>\n",
       "      <td>19.460000</td>\n",
       "      <td>19.040000</td>\n",
       "    </tr>\n",
       "    <tr>\n",
       "      <th>50%</th>\n",
       "      <td>27.880000</td>\n",
       "      <td>26.575000</td>\n",
       "      <td>23.860000</td>\n",
       "      <td>21.870000</td>\n",
       "    </tr>\n",
       "    <tr>\n",
       "      <th>75%</th>\n",
       "      <td>75.795000</td>\n",
       "      <td>65.315000</td>\n",
       "      <td>53.812500</td>\n",
       "      <td>42.190000</td>\n",
       "    </tr>\n",
       "    <tr>\n",
       "      <th>max</th>\n",
       "      <td>127.170000</td>\n",
       "      <td>111.690000</td>\n",
       "      <td>91.990000</td>\n",
       "      <td>70.940000</td>\n",
       "    </tr>\n",
       "  </tbody>\n",
       "</table>\n",
       "</div>"
      ],
      "text/plain": [
       "              T_p3         T_m3        T_vi3        T_ve3\n",
       "count  9760.000000  9760.000000  9760.000000  9760.000000\n",
       "mean     49.530310    44.288693    37.653720    31.023411\n",
       "std      37.506635    31.112759    24.231956    16.383009\n",
       "min      16.150000    15.940000    15.240000    14.970000\n",
       "25%      20.760000    20.410000    19.460000    19.040000\n",
       "50%      27.880000    26.575000    23.860000    21.870000\n",
       "75%      75.795000    65.315000    53.812500    42.190000\n",
       "max     127.170000   111.690000    91.990000    70.940000"
      ]
     },
     "execution_count": 12,
     "metadata": {},
     "output_type": "execute_result"
    }
   ],
   "source": [
    "df3.describe()"
   ]
  },
  {
   "cell_type": "markdown",
   "id": "1056e653-d511-4355-92fe-adbd5b092739",
   "metadata": {},
   "source": [
    "# Importando estacion Hobo"
   ]
  },
  {
   "cell_type": "code",
   "execution_count": 13,
   "id": "8f302ab5-4494-4f64-9fe6-b10abe29f9c1",
   "metadata": {},
   "outputs": [
    {
     "ename": "FileNotFoundError",
     "evalue": "[Errno 2] No such file or directory: '../data/002_processed/estacion_hobo.csv'",
     "output_type": "error",
     "traceback": [
      "\u001b[1;31m---------------------------------------------------------------------------\u001b[0m",
      "\u001b[1;31mFileNotFoundError\u001b[0m                         Traceback (most recent call last)",
      "Cell \u001b[1;32mIn[13], line 1\u001b[0m\n\u001b[1;32m----> 1\u001b[0m estacion_hobo \u001b[38;5;241m=\u001b[39m \u001b[43mpd\u001b[49m\u001b[38;5;241;43m.\u001b[39;49m\u001b[43mread_csv\u001b[49m\u001b[43m(\u001b[49m\u001b[38;5;124;43m'\u001b[39;49m\u001b[38;5;124;43m../data/002_processed/estacion_hobo.csv\u001b[39;49m\u001b[38;5;124;43m'\u001b[39;49m\u001b[43m,\u001b[49m\u001b[43m \u001b[49m\u001b[43mindex_col\u001b[49m\u001b[43m \u001b[49m\u001b[38;5;241;43m=\u001b[39;49m\u001b[43m \u001b[49m\u001b[38;5;241;43m0\u001b[39;49m\u001b[43m,\u001b[49m\u001b[43m \u001b[49m\u001b[43mparse_dates\u001b[49m\u001b[43m \u001b[49m\u001b[38;5;241;43m=\u001b[39;49m\u001b[43m \u001b[49m\u001b[38;5;28;43;01mTrue\u001b[39;49;00m\u001b[43m)\u001b[49m\n\u001b[0;32m      2\u001b[0m hobo \u001b[38;5;241m=\u001b[39m estacion_hobo[[\u001b[38;5;124m'\u001b[39m\u001b[38;5;124mTo\u001b[39m\u001b[38;5;124m'\u001b[39m,\u001b[38;5;124m'\u001b[39m\u001b[38;5;124mIg\u001b[39m\u001b[38;5;124m'\u001b[39m,\u001b[38;5;124m'\u001b[39m\u001b[38;5;124mWS\u001b[39m\u001b[38;5;124m'\u001b[39m]]\n\u001b[0;32m      3\u001b[0m hobo\n",
      "File \u001b[1;32mC:\\WPy64-31131\\python-3.11.3.amd64\\Lib\\site-packages\\pandas\\io\\parsers\\readers.py:948\u001b[0m, in \u001b[0;36mread_csv\u001b[1;34m(filepath_or_buffer, sep, delimiter, header, names, index_col, usecols, dtype, engine, converters, true_values, false_values, skipinitialspace, skiprows, skipfooter, nrows, na_values, keep_default_na, na_filter, verbose, skip_blank_lines, parse_dates, infer_datetime_format, keep_date_col, date_parser, date_format, dayfirst, cache_dates, iterator, chunksize, compression, thousands, decimal, lineterminator, quotechar, quoting, doublequote, escapechar, comment, encoding, encoding_errors, dialect, on_bad_lines, delim_whitespace, low_memory, memory_map, float_precision, storage_options, dtype_backend)\u001b[0m\n\u001b[0;32m    935\u001b[0m kwds_defaults \u001b[38;5;241m=\u001b[39m _refine_defaults_read(\n\u001b[0;32m    936\u001b[0m     dialect,\n\u001b[0;32m    937\u001b[0m     delimiter,\n\u001b[1;32m   (...)\u001b[0m\n\u001b[0;32m    944\u001b[0m     dtype_backend\u001b[38;5;241m=\u001b[39mdtype_backend,\n\u001b[0;32m    945\u001b[0m )\n\u001b[0;32m    946\u001b[0m kwds\u001b[38;5;241m.\u001b[39mupdate(kwds_defaults)\n\u001b[1;32m--> 948\u001b[0m \u001b[38;5;28;01mreturn\u001b[39;00m \u001b[43m_read\u001b[49m\u001b[43m(\u001b[49m\u001b[43mfilepath_or_buffer\u001b[49m\u001b[43m,\u001b[49m\u001b[43m \u001b[49m\u001b[43mkwds\u001b[49m\u001b[43m)\u001b[49m\n",
      "File \u001b[1;32mC:\\WPy64-31131\\python-3.11.3.amd64\\Lib\\site-packages\\pandas\\io\\parsers\\readers.py:611\u001b[0m, in \u001b[0;36m_read\u001b[1;34m(filepath_or_buffer, kwds)\u001b[0m\n\u001b[0;32m    608\u001b[0m _validate_names(kwds\u001b[38;5;241m.\u001b[39mget(\u001b[38;5;124m\"\u001b[39m\u001b[38;5;124mnames\u001b[39m\u001b[38;5;124m\"\u001b[39m, \u001b[38;5;28;01mNone\u001b[39;00m))\n\u001b[0;32m    610\u001b[0m \u001b[38;5;66;03m# Create the parser.\u001b[39;00m\n\u001b[1;32m--> 611\u001b[0m parser \u001b[38;5;241m=\u001b[39m \u001b[43mTextFileReader\u001b[49m\u001b[43m(\u001b[49m\u001b[43mfilepath_or_buffer\u001b[49m\u001b[43m,\u001b[49m\u001b[43m \u001b[49m\u001b[38;5;241;43m*\u001b[39;49m\u001b[38;5;241;43m*\u001b[39;49m\u001b[43mkwds\u001b[49m\u001b[43m)\u001b[49m\n\u001b[0;32m    613\u001b[0m \u001b[38;5;28;01mif\u001b[39;00m chunksize \u001b[38;5;129;01mor\u001b[39;00m iterator:\n\u001b[0;32m    614\u001b[0m     \u001b[38;5;28;01mreturn\u001b[39;00m parser\n",
      "File \u001b[1;32mC:\\WPy64-31131\\python-3.11.3.amd64\\Lib\\site-packages\\pandas\\io\\parsers\\readers.py:1448\u001b[0m, in \u001b[0;36mTextFileReader.__init__\u001b[1;34m(self, f, engine, **kwds)\u001b[0m\n\u001b[0;32m   1445\u001b[0m     \u001b[38;5;28mself\u001b[39m\u001b[38;5;241m.\u001b[39moptions[\u001b[38;5;124m\"\u001b[39m\u001b[38;5;124mhas_index_names\u001b[39m\u001b[38;5;124m\"\u001b[39m] \u001b[38;5;241m=\u001b[39m kwds[\u001b[38;5;124m\"\u001b[39m\u001b[38;5;124mhas_index_names\u001b[39m\u001b[38;5;124m\"\u001b[39m]\n\u001b[0;32m   1447\u001b[0m \u001b[38;5;28mself\u001b[39m\u001b[38;5;241m.\u001b[39mhandles: IOHandles \u001b[38;5;241m|\u001b[39m \u001b[38;5;28;01mNone\u001b[39;00m \u001b[38;5;241m=\u001b[39m \u001b[38;5;28;01mNone\u001b[39;00m\n\u001b[1;32m-> 1448\u001b[0m \u001b[38;5;28mself\u001b[39m\u001b[38;5;241m.\u001b[39m_engine \u001b[38;5;241m=\u001b[39m \u001b[38;5;28;43mself\u001b[39;49m\u001b[38;5;241;43m.\u001b[39;49m\u001b[43m_make_engine\u001b[49m\u001b[43m(\u001b[49m\u001b[43mf\u001b[49m\u001b[43m,\u001b[49m\u001b[43m \u001b[49m\u001b[38;5;28;43mself\u001b[39;49m\u001b[38;5;241;43m.\u001b[39;49m\u001b[43mengine\u001b[49m\u001b[43m)\u001b[49m\n",
      "File \u001b[1;32mC:\\WPy64-31131\\python-3.11.3.amd64\\Lib\\site-packages\\pandas\\io\\parsers\\readers.py:1705\u001b[0m, in \u001b[0;36mTextFileReader._make_engine\u001b[1;34m(self, f, engine)\u001b[0m\n\u001b[0;32m   1703\u001b[0m     \u001b[38;5;28;01mif\u001b[39;00m \u001b[38;5;124m\"\u001b[39m\u001b[38;5;124mb\u001b[39m\u001b[38;5;124m\"\u001b[39m \u001b[38;5;129;01mnot\u001b[39;00m \u001b[38;5;129;01min\u001b[39;00m mode:\n\u001b[0;32m   1704\u001b[0m         mode \u001b[38;5;241m+\u001b[39m\u001b[38;5;241m=\u001b[39m \u001b[38;5;124m\"\u001b[39m\u001b[38;5;124mb\u001b[39m\u001b[38;5;124m\"\u001b[39m\n\u001b[1;32m-> 1705\u001b[0m \u001b[38;5;28mself\u001b[39m\u001b[38;5;241m.\u001b[39mhandles \u001b[38;5;241m=\u001b[39m \u001b[43mget_handle\u001b[49m\u001b[43m(\u001b[49m\n\u001b[0;32m   1706\u001b[0m \u001b[43m    \u001b[49m\u001b[43mf\u001b[49m\u001b[43m,\u001b[49m\n\u001b[0;32m   1707\u001b[0m \u001b[43m    \u001b[49m\u001b[43mmode\u001b[49m\u001b[43m,\u001b[49m\n\u001b[0;32m   1708\u001b[0m \u001b[43m    \u001b[49m\u001b[43mencoding\u001b[49m\u001b[38;5;241;43m=\u001b[39;49m\u001b[38;5;28;43mself\u001b[39;49m\u001b[38;5;241;43m.\u001b[39;49m\u001b[43moptions\u001b[49m\u001b[38;5;241;43m.\u001b[39;49m\u001b[43mget\u001b[49m\u001b[43m(\u001b[49m\u001b[38;5;124;43m\"\u001b[39;49m\u001b[38;5;124;43mencoding\u001b[39;49m\u001b[38;5;124;43m\"\u001b[39;49m\u001b[43m,\u001b[49m\u001b[43m \u001b[49m\u001b[38;5;28;43;01mNone\u001b[39;49;00m\u001b[43m)\u001b[49m\u001b[43m,\u001b[49m\n\u001b[0;32m   1709\u001b[0m \u001b[43m    \u001b[49m\u001b[43mcompression\u001b[49m\u001b[38;5;241;43m=\u001b[39;49m\u001b[38;5;28;43mself\u001b[39;49m\u001b[38;5;241;43m.\u001b[39;49m\u001b[43moptions\u001b[49m\u001b[38;5;241;43m.\u001b[39;49m\u001b[43mget\u001b[49m\u001b[43m(\u001b[49m\u001b[38;5;124;43m\"\u001b[39;49m\u001b[38;5;124;43mcompression\u001b[39;49m\u001b[38;5;124;43m\"\u001b[39;49m\u001b[43m,\u001b[49m\u001b[43m \u001b[49m\u001b[38;5;28;43;01mNone\u001b[39;49;00m\u001b[43m)\u001b[49m\u001b[43m,\u001b[49m\n\u001b[0;32m   1710\u001b[0m \u001b[43m    \u001b[49m\u001b[43mmemory_map\u001b[49m\u001b[38;5;241;43m=\u001b[39;49m\u001b[38;5;28;43mself\u001b[39;49m\u001b[38;5;241;43m.\u001b[39;49m\u001b[43moptions\u001b[49m\u001b[38;5;241;43m.\u001b[39;49m\u001b[43mget\u001b[49m\u001b[43m(\u001b[49m\u001b[38;5;124;43m\"\u001b[39;49m\u001b[38;5;124;43mmemory_map\u001b[39;49m\u001b[38;5;124;43m\"\u001b[39;49m\u001b[43m,\u001b[49m\u001b[43m \u001b[49m\u001b[38;5;28;43;01mFalse\u001b[39;49;00m\u001b[43m)\u001b[49m\u001b[43m,\u001b[49m\n\u001b[0;32m   1711\u001b[0m \u001b[43m    \u001b[49m\u001b[43mis_text\u001b[49m\u001b[38;5;241;43m=\u001b[39;49m\u001b[43mis_text\u001b[49m\u001b[43m,\u001b[49m\n\u001b[0;32m   1712\u001b[0m \u001b[43m    \u001b[49m\u001b[43merrors\u001b[49m\u001b[38;5;241;43m=\u001b[39;49m\u001b[38;5;28;43mself\u001b[39;49m\u001b[38;5;241;43m.\u001b[39;49m\u001b[43moptions\u001b[49m\u001b[38;5;241;43m.\u001b[39;49m\u001b[43mget\u001b[49m\u001b[43m(\u001b[49m\u001b[38;5;124;43m\"\u001b[39;49m\u001b[38;5;124;43mencoding_errors\u001b[39;49m\u001b[38;5;124;43m\"\u001b[39;49m\u001b[43m,\u001b[49m\u001b[43m \u001b[49m\u001b[38;5;124;43m\"\u001b[39;49m\u001b[38;5;124;43mstrict\u001b[39;49m\u001b[38;5;124;43m\"\u001b[39;49m\u001b[43m)\u001b[49m\u001b[43m,\u001b[49m\n\u001b[0;32m   1713\u001b[0m \u001b[43m    \u001b[49m\u001b[43mstorage_options\u001b[49m\u001b[38;5;241;43m=\u001b[39;49m\u001b[38;5;28;43mself\u001b[39;49m\u001b[38;5;241;43m.\u001b[39;49m\u001b[43moptions\u001b[49m\u001b[38;5;241;43m.\u001b[39;49m\u001b[43mget\u001b[49m\u001b[43m(\u001b[49m\u001b[38;5;124;43m\"\u001b[39;49m\u001b[38;5;124;43mstorage_options\u001b[39;49m\u001b[38;5;124;43m\"\u001b[39;49m\u001b[43m,\u001b[49m\u001b[43m \u001b[49m\u001b[38;5;28;43;01mNone\u001b[39;49;00m\u001b[43m)\u001b[49m\u001b[43m,\u001b[49m\n\u001b[0;32m   1714\u001b[0m \u001b[43m\u001b[49m\u001b[43m)\u001b[49m\n\u001b[0;32m   1715\u001b[0m \u001b[38;5;28;01massert\u001b[39;00m \u001b[38;5;28mself\u001b[39m\u001b[38;5;241m.\u001b[39mhandles \u001b[38;5;129;01mis\u001b[39;00m \u001b[38;5;129;01mnot\u001b[39;00m \u001b[38;5;28;01mNone\u001b[39;00m\n\u001b[0;32m   1716\u001b[0m f \u001b[38;5;241m=\u001b[39m \u001b[38;5;28mself\u001b[39m\u001b[38;5;241m.\u001b[39mhandles\u001b[38;5;241m.\u001b[39mhandle\n",
      "File \u001b[1;32mC:\\WPy64-31131\\python-3.11.3.amd64\\Lib\\site-packages\\pandas\\io\\common.py:863\u001b[0m, in \u001b[0;36mget_handle\u001b[1;34m(path_or_buf, mode, encoding, compression, memory_map, is_text, errors, storage_options)\u001b[0m\n\u001b[0;32m    858\u001b[0m \u001b[38;5;28;01melif\u001b[39;00m \u001b[38;5;28misinstance\u001b[39m(handle, \u001b[38;5;28mstr\u001b[39m):\n\u001b[0;32m    859\u001b[0m     \u001b[38;5;66;03m# Check whether the filename is to be opened in binary mode.\u001b[39;00m\n\u001b[0;32m    860\u001b[0m     \u001b[38;5;66;03m# Binary mode does not support 'encoding' and 'newline'.\u001b[39;00m\n\u001b[0;32m    861\u001b[0m     \u001b[38;5;28;01mif\u001b[39;00m ioargs\u001b[38;5;241m.\u001b[39mencoding \u001b[38;5;129;01mand\u001b[39;00m \u001b[38;5;124m\"\u001b[39m\u001b[38;5;124mb\u001b[39m\u001b[38;5;124m\"\u001b[39m \u001b[38;5;129;01mnot\u001b[39;00m \u001b[38;5;129;01min\u001b[39;00m ioargs\u001b[38;5;241m.\u001b[39mmode:\n\u001b[0;32m    862\u001b[0m         \u001b[38;5;66;03m# Encoding\u001b[39;00m\n\u001b[1;32m--> 863\u001b[0m         handle \u001b[38;5;241m=\u001b[39m \u001b[38;5;28;43mopen\u001b[39;49m\u001b[43m(\u001b[49m\n\u001b[0;32m    864\u001b[0m \u001b[43m            \u001b[49m\u001b[43mhandle\u001b[49m\u001b[43m,\u001b[49m\n\u001b[0;32m    865\u001b[0m \u001b[43m            \u001b[49m\u001b[43mioargs\u001b[49m\u001b[38;5;241;43m.\u001b[39;49m\u001b[43mmode\u001b[49m\u001b[43m,\u001b[49m\n\u001b[0;32m    866\u001b[0m \u001b[43m            \u001b[49m\u001b[43mencoding\u001b[49m\u001b[38;5;241;43m=\u001b[39;49m\u001b[43mioargs\u001b[49m\u001b[38;5;241;43m.\u001b[39;49m\u001b[43mencoding\u001b[49m\u001b[43m,\u001b[49m\n\u001b[0;32m    867\u001b[0m \u001b[43m            \u001b[49m\u001b[43merrors\u001b[49m\u001b[38;5;241;43m=\u001b[39;49m\u001b[43merrors\u001b[49m\u001b[43m,\u001b[49m\n\u001b[0;32m    868\u001b[0m \u001b[43m            \u001b[49m\u001b[43mnewline\u001b[49m\u001b[38;5;241;43m=\u001b[39;49m\u001b[38;5;124;43m\"\u001b[39;49m\u001b[38;5;124;43m\"\u001b[39;49m\u001b[43m,\u001b[49m\n\u001b[0;32m    869\u001b[0m \u001b[43m        \u001b[49m\u001b[43m)\u001b[49m\n\u001b[0;32m    870\u001b[0m     \u001b[38;5;28;01melse\u001b[39;00m:\n\u001b[0;32m    871\u001b[0m         \u001b[38;5;66;03m# Binary mode\u001b[39;00m\n\u001b[0;32m    872\u001b[0m         handle \u001b[38;5;241m=\u001b[39m \u001b[38;5;28mopen\u001b[39m(handle, ioargs\u001b[38;5;241m.\u001b[39mmode)\n",
      "\u001b[1;31mFileNotFoundError\u001b[0m: [Errno 2] No such file or directory: '../data/002_processed/estacion_hobo.csv'"
     ]
    }
   ],
   "source": [
    "estacion_hobo = pd.read_csv('../data/002_processed/estacion_hobo.csv', index_col = 0, parse_dates = True)\n",
    "hobo = estacion_hobo[['To','Ig','WS']]\n",
    "hobo"
   ]
  },
  {
   "cell_type": "markdown",
   "id": "aab0050d-e789-4444-afca-7d2446e836ac",
   "metadata": {},
   "source": [
    "# Concatenando las tres cocinas 1L de agua con tecnopor"
   ]
  },
  {
   "cell_type": "code",
   "execution_count": null,
   "id": "854316ab-02ad-47df-868a-d03f91e017ed",
   "metadata": {},
   "outputs": [],
   "source": [
    "lanoveja_sa = pd.concat([df1, df2, df3,hobo], axis = 1)\n",
    "lanoveja_sa"
   ]
  },
  {
   "cell_type": "code",
   "execution_count": null,
   "id": "d3dc5434-34f0-47ca-8967-bc740a3bb114",
   "metadata": {},
   "outputs": [],
   "source": [
    "lanoveja_sa = lanoveja_sa.loc['2024-01-09 00:00:00':'2024-01-11 23:59:00']"
   ]
  },
  {
   "cell_type": "code",
   "execution_count": null,
   "id": "c3b6079d-d449-4e25-9a51-ce064cbb7ab7",
   "metadata": {},
   "outputs": [],
   "source": [
    "lanoveja_sa"
   ]
  },
  {
   "cell_type": "code",
   "execution_count": null,
   "id": "779cc28e-2a10-4ca7-9fdc-61814aa91176",
   "metadata": {},
   "outputs": [],
   "source": [
    "lanoveja_sa[['T_p1','T_p2','T_p3']].plot()"
   ]
  },
  {
   "cell_type": "code",
   "execution_count": null,
   "id": "5a78a6b9-eecb-43cd-89ea-3c982d1a5892",
   "metadata": {},
   "outputs": [],
   "source": [
    "lanoveja_sa[['T_m1','T_m2','T_m3']].plot()"
   ]
  },
  {
   "cell_type": "code",
   "execution_count": null,
   "id": "19588aee-4410-4541-99a2-a082b28b3fea",
   "metadata": {},
   "outputs": [],
   "source": [
    "lanoveja_sa[['T_vi1','T_vi2','T_vi3']].plot()"
   ]
  },
  {
   "cell_type": "code",
   "execution_count": null,
   "id": "49070182-bc4e-4bbf-8bec-36bcc9871646",
   "metadata": {},
   "outputs": [],
   "source": [
    "lanoveja_sa[['T_ve1','T_ve2','T_ve3']].plot()"
   ]
  },
  {
   "cell_type": "code",
   "execution_count": null,
   "id": "60906715-6402-49ba-962b-baf2b06c06f0",
   "metadata": {},
   "outputs": [],
   "source": [
    "lanoveja_sa.plot(figsize = (20,10))"
   ]
  },
  {
   "cell_type": "code",
   "execution_count": null,
   "id": "6774bc58-76b0-4050-b47e-23a94ab5470c",
   "metadata": {},
   "outputs": [],
   "source": [
    "lanoveja_sa.plot(subplots = True, figsize = (10,30))"
   ]
  },
  {
   "cell_type": "code",
   "execution_count": null,
   "id": "61bd0a50-5b0b-4c3a-8d8a-81b32a8f1336",
   "metadata": {},
   "outputs": [],
   "source": [
    "lanoveja_sa[['T_p1','T_m1','T_vi1','T_ve1','T_p2','T_m2','T_vi2','T_ve2','T_p3','T_m3','T_vi3','T_ve3','To']].plot(figsize = (20,10))"
   ]
  },
  {
   "cell_type": "markdown",
   "id": "0b7d952f-3ce3-4b63-8e25-1fdf437b8400",
   "metadata": {},
   "source": [
    "# Exportar datos a excel"
   ]
  },
  {
   "cell_type": "code",
   "execution_count": null,
   "id": "82706310-f35a-486f-9c71-a74723ff3853",
   "metadata": {},
   "outputs": [],
   "source": [
    "#dias 9, 10 y 11"
   ]
  },
  {
   "cell_type": "code",
   "execution_count": null,
   "id": "69ee5f79-af5c-46f0-8413-cfed4009e7d5",
   "metadata": {},
   "outputs": [],
   "source": [
    "#COCINA 1\n",
    "lanoveja_sa[['T_p1','T_m1','T_vi1','T_ve1','To','Ig','WS']].loc['2024-01-09 00:00:00':'2024-01-09 23:59:00'].to_excel('../data/002_processed/003_lana_oveja/C1_LANOVJ_SA_dia1.xlsx')\n",
    "lanoveja_sa[['T_p1','T_m1','T_vi1','T_ve1','To','Ig','WS']].loc['2024-01-10 00:00:00':'2024-01-10 23:59:00'].to_excel('../data/002_processed/003_lana_oveja/C1_LANOVJ_SA_dia2.xlsx')\n",
    "lanoveja_sa[['T_p1','T_m1','T_vi1','T_ve1','To','Ig','WS']].loc['2024-01-11 00:00:00':'2024-01-11 23:59:00'].to_excel('../data/002_processed/003_lana_oveja/C1_LANOVJ_SA_dia3.xlsx')\n",
    "\n",
    "#COCINA 2\n",
    "lanoveja_sa[['T_p2','T_m2','T_vi2','T_ve2','To','Ig','WS']].loc['2024-01-09 00:00:00':'2024-01-09 23:59:00'].to_excel('../data/002_processed/003_lana_oveja/C2_LANOVJ_SA_dia1.xlsx')\n",
    "lanoveja_sa[['T_p2','T_m2','T_vi2','T_ve2','To','Ig','WS']].loc['2024-01-10 00:00:00':'2024-01-10 23:59:00'].to_excel('../data/002_processed/003_lana_oveja/C2_LANOVJ_SA_dia2.xlsx')\n",
    "lanoveja_sa[['T_p2','T_m2','T_vi2','T_ve2','To','Ig','WS']].loc['2024-01-11 00:00:00':'2024-01-11 23:59:00'].to_excel('../data/002_processed/003_lana_oveja/C2_LANOVJ_SA_dia3.xlsx')\n",
    "\n",
    "#COCINA 3\n",
    "lanoveja_sa[['T_p3','T_m3','T_vi3','T_ve3','To','Ig','WS']].loc['2024-01-09 00:00:00':'2024-01-09 23:59:00'].to_excel('../data/002_processed/003_lana_oveja/C3_LANOVJ_SA_dia1.xlsx')\n",
    "lanoveja_sa[['T_p3','T_m3','T_vi3','T_ve3','To','Ig','WS']].loc['2024-01-10 00:00:00':'2024-01-10 23:59:00'].to_excel('../data/002_processed/003_lana_oveja/C3_LANOVJ_SA_dia2.xlsx')\n",
    "lanoveja_sa[['T_p3','T_m3','T_vi3','T_ve3','To','Ig','WS']].loc['2024-01-11 00:00:00':'2024-01-11 23:59:00'].to_excel('../data/002_processed/003_lana_oveja/C3_LANOVJ_SA_dia3.xlsx')\n"
   ]
  },
  {
   "cell_type": "markdown",
   "id": "46f453f6-ec6d-4ed3-ab02-5433511bce08",
   "metadata": {},
   "source": [
    "## Exportar toda la data"
   ]
  },
  {
   "cell_type": "code",
   "execution_count": null,
   "id": "454cdd93-637f-494e-acb7-5396388f8725",
   "metadata": {},
   "outputs": [],
   "source": [
    "lanoveja_sa.to_csv('../data/002_processed/005_completo/LANA_OVEJA_SA.csv')"
   ]
  },
  {
   "cell_type": "code",
   "execution_count": null,
   "id": "2f6154cf-78d7-4af3-8245-70a07b4075ee",
   "metadata": {},
   "outputs": [],
   "source": []
  }
 ],
 "metadata": {
  "kernelspec": {
   "display_name": "Python 3 (ipykernel)",
   "language": "python",
   "name": "python3"
  },
  "language_info": {
   "codemirror_mode": {
    "name": "ipython",
    "version": 3
   },
   "file_extension": ".py",
   "mimetype": "text/x-python",
   "name": "python",
   "nbconvert_exporter": "python",
   "pygments_lexer": "ipython3",
   "version": "3.11.3"
  }
 },
 "nbformat": 4,
 "nbformat_minor": 5
}
